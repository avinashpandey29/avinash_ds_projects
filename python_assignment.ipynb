{
 "cells": [
  {
   "cell_type": "code",
   "execution_count": 1,
   "metadata": {},
   "outputs": [],
   "source": [
    "s = 'I am very keen in building up my career in Data Science, but not sure from where to start. If I search the web it throws me thousands of articles, few are relevant others make me confused, again I come around to the same page. Supervised has provided me a good platform to remove all such qualms which were wrangling in my mind' "
   ]
  },
  {
   "cell_type": "code",
   "execution_count": 6,
   "metadata": {},
   "outputs": [
    {
     "name": "stdout",
     "output_type": "stream",
     "text": [
      "327\n"
     ]
    }
   ],
   "source": [
    "#Average length of string\n",
    "\n",
    "len = len(s)\n",
    "print(len)"
   ]
  },
  {
   "cell_type": "code",
   "execution_count": 8,
   "metadata": {},
   "outputs": [
    {
     "name": "stdout",
     "output_type": "stream",
     "text": [
      "i am very keen in building up my career in data science, but not sure from where to start. if i search the web it throws me thousands of articles, few are relevant others make me confused, again i come around to the same page. supervised has provided me a good platform to remove all such qualms which were wrangling in my mind\n"
     ]
    }
   ],
   "source": [
    "#Lower the text in the string.\n",
    "\n",
    "str_lower = s.lower()\n",
    "print(str_lower)"
   ]
  },
  {
   "cell_type": "code",
   "execution_count": 2,
   "metadata": {},
   "outputs": [
    {
     "name": "stdout",
     "output_type": "stream",
     "text": [
      "i am very keen in building up my career in data science but not sure from where to start if i search the web it throws me thousands of articles few are relevant others make me confused again i come around to the same page supervised has provided me a good platform to remove all such qualms which were wrangling in my mind\n"
     ]
    }
   ],
   "source": [
    "#ty to get the clean text removing the punctuation from the string.\n",
    "s = 'i am very keen in building up my career in data science, but not sure from where to start. if i search the web it throws me thousands of articles, few are relevant others make me confused, again i come around to the same page. supervised has provided me a good platform to remove all such qualms which were wrangling in my mind'\n",
    "punctuations = '''!.,/?{}[](<>@#%^&*)'''\n",
    "\n",
    "no_punc = \"\"\n",
    "for char in s:\n",
    "    if char not in punctuations:\n",
    "        no_punc = no_punc + char\n",
    "print(no_punc)        "
   ]
  },
  {
   "cell_type": "code",
   "execution_count": 16,
   "metadata": {},
   "outputs": [
    {
     "name": "stdout",
     "output_type": "stream",
     "text": [
      "Data Science\n"
     ]
    }
   ],
   "source": [
    "#print data science\n",
    "print(s[43:55])"
   ]
  },
  {
   "cell_type": "code",
   "execution_count": 4,
   "metadata": {},
   "outputs": [
    {
     "name": "stdout",
     "output_type": "stream",
     "text": [
      "2\n"
     ]
    }
   ],
   "source": [
    "#print count of words\n",
    "s = 'i am very keen in building up my career in data science, but not sure from where to start. if i search the web it throws me thousands of articles, few are relevant others make me confused, again i come around to the same page. supervised has provided me a good platform to remove all such qualms which were wrangling in my mind'\n",
    "str_list = s.split(s)\n",
    "unique_words = set(str_list)\n",
    "for words in unique_words:\n",
    "    print(str_list.count(words))"
   ]
  },
  {
   "cell_type": "code",
   "execution_count": 5,
   "metadata": {},
   "outputs": [
    {
     "name": "stdout",
     "output_type": "stream",
     "text": [
      "Frequencies\n",
      "[3, 1, 1, 1, 3, 1, 1, 2, 1, 3, 1, 1, 1, 1, 1, 1, 1, 3, 1, 1, 3, 1, 2, 1, 1, 1, 3, 1, 1, 1, 1, 1, 1, 1, 1, 3, 1, 1, 3, 1, 1, 3, 2, 1, 1, 1, 1, 1, 3, 1, 1, 1, 3, 1, 1, 1, 1, 1, 1, 1, 3, 2, 1]\n",
      "\n"
     ]
    }
   ],
   "source": [
    "wordstring = 'i am very keen in building up my career in data science, but not sure from where to start. if i search the web it throws me thousands of articles, few are relevant others make me confused, again i come around to the same page. supervised has provided me a good platform to remove all such qualms which were wrangling in my mind'\n",
    "wordlist = wordstring.split()\n",
    "\n",
    "wordfreq = []\n",
    "\n",
    "for w in wordlist:\n",
    "    wordfreq.append(wordlist.count(w))\n",
    "print(\"Frequencies\\n\" + str(wordfreq) + \"\\n\")"
   ]
  },
  {
   "cell_type": "code",
   "execution_count": 17,
   "metadata": {},
   "outputs": [
    {
     "name": "stdout",
     "output_type": "stream",
     "text": [
      "[' ', 'a', 'b', 'c', 'd', 'e', 'f', 'g', 'h', 'i', 'k', 'l', 'm', 'n', 'o', 'p', 'r', 's', 't', 'u', 'v', 'w', 'y']\n"
     ]
    }
   ],
   "source": [
    "#ty to get the clean text removing the punctuation from the string.\n",
    "from collections import Counter\n",
    "s = 'i am very keen in very building up my career in data science, but not sure from where to start. if i search the web it throws me thousands of articles, few are relevant others make me confused, again i come around to the same page. supervised has provided me a good platform to remove all such qualms which were wrangling in my mind'\n",
    "punctuations = '''!.,/?{}[](<>@#%^&*)'''\n",
    "\n",
    "no_punc = \"\"\n",
    "for char in s:\n",
    "    if char not in punctuations:\n",
    "        no_punc = no_punc + char \n",
    "\n",
    "duplicate_list = sorted(Counter(no_punc) - Counter(set(no_punc)))\n",
    "print(duplicate_list)"
   ]
  },
  {
   "cell_type": "code",
   "execution_count": 18,
   "metadata": {},
   "outputs": [
    {
     "name": "stdout",
     "output_type": "stream",
     "text": [
      "22\n"
     ]
    }
   ],
   "source": [
    "#Print number of a\n",
    "print(s.count('a'))"
   ]
  },
  {
   "cell_type": "code",
   "execution_count": 27,
   "metadata": {},
   "outputs": [
    {
     "name": "stdout",
     "output_type": "stream",
     "text": [
      "False\n"
     ]
    }
   ],
   "source": [
    "#Find the words from the string which ends with \"e\"\n",
    "s = 'i am very keen in very building up my career in data science, but not sure from where to start. if i search the web it throws me thousands of articles, few are relevant others make me confused, again i come around to the same page. supervised has provided me a good platform to remove all such qualms which were wrangling in my mind'\n",
    "str_new = s.endswith('er')\n",
    "print(str_new)"
   ]
  },
  {
   "cell_type": "code",
   "execution_count": 31,
   "metadata": {},
   "outputs": [
    {
     "name": "stdout",
     "output_type": "stream",
     "text": [
      "i am very keen in very building up my career in data science, but not sure from where to start. if i search the web it throws me thousands of articles, few are relevant others make me confused, again i come around to the same page. Unsupervised has provided me a good platform to remove all such qualms which were wrangling in my mind\n"
     ]
    }
   ],
   "source": [
    "#Replace supervised with unsupervised\n",
    "str = s.replace(\"supervised\", \"Unsupervised\")\n",
    "print(str)"
   ]
  },
  {
   "cell_type": "code",
   "execution_count": 1,
   "metadata": {},
   "outputs": [
    {
     "name": "stdout",
     "output_type": "stream",
     "text": [
      "{'apple': '250', 'sugar': '500', 'rice': '2.5', 'milk': '2.5', 'egg': '1'}\n"
     ]
    }
   ],
   "source": [
    "#Assignment on dictionary\n",
    "\n",
    "purchase = {'apple':'250','sugar':'500','rice':'2.5','milk':'2.5','egg':'1'}\n",
    "print(purchase)"
   ]
  },
  {
   "cell_type": "code",
   "execution_count": 2,
   "metadata": {},
   "outputs": [
    {
     "name": "stdout",
     "output_type": "stream",
     "text": [
      "{'apple': '250', 'sugar': '500', 'rice': '2.5', 'milk': '2.5', 'egg': '1', 'atta': '500'}\n"
     ]
    }
   ],
   "source": [
    "#Adding elements \n",
    "\n",
    "purchase[\"atta\"] = \"500\"\n",
    "print(purchase)"
   ]
  },
  {
   "cell_type": "code",
   "execution_count": 3,
   "metadata": {},
   "outputs": [
    {
     "name": "stdout",
     "output_type": "stream",
     "text": [
      "{'apple': '250', 'sugar': '500', 'rice': '1000', 'milk': '2.5', 'egg': '1', 'atta': '500'}\n"
     ]
    }
   ],
   "source": [
    "purchase[\"rice\"] =  \"1000\"\n",
    "print(purchase)"
   ]
  },
  {
   "cell_type": "code",
   "execution_count": 12,
   "metadata": {},
   "outputs": [
    {
     "name": "stdout",
     "output_type": "stream",
     "text": [
      "('apple', '250')\n",
      "('sugar', '500')\n",
      "('rice', '1000')\n",
      "('milk', '2.5')\n",
      "('egg', '1')\n",
      "('atta', '500')\n"
     ]
    }
   ],
   "source": [
    "for x in purchase.items():\n",
    "    print(x)"
   ]
  },
  {
   "cell_type": "code",
   "execution_count": 13,
   "metadata": {},
   "outputs": [
    {
     "name": "stdout",
     "output_type": "stream",
     "text": [
      "['mICROSOFT', 'GOOGLE', 'AMAZON', 'UBER', 'OLA']\n"
     ]
    }
   ],
   "source": [
    "#Assignemnt on list\n",
    "\n",
    "AI_COMPANIES = ['MICROSOFT','GOOGLE','AMAZON','UBER','OLA']\n",
    "print(AI_COMPANIES)"
   ]
  },
  {
   "cell_type": "code",
   "execution_count": 15,
   "metadata": {},
   "outputs": [
    {
     "name": "stdout",
     "output_type": "stream",
     "text": [
      "['mICROSOFT', 'GOOGLE', 'AMAZON', 'UBER', 'OLA', 'Qualcomm', 'Nividia', 'Reliance']\n"
     ]
    }
   ],
   "source": [
    "AI_COMPANIES.extend(['Qualcomm','Nividia','Reliance'])\n",
    "print(AI_COMPANIES)"
   ]
  },
  {
   "cell_type": "code",
   "execution_count": 16,
   "metadata": {},
   "outputs": [],
   "source": [
    "AI_COMPANIES.remove('Reliance')"
   ]
  },
  {
   "cell_type": "code",
   "execution_count": 17,
   "metadata": {},
   "outputs": [
    {
     "name": "stdout",
     "output_type": "stream",
     "text": [
      "['mICROSOFT', 'GOOGLE', 'AMAZON', 'UBER', 'OLA', 'Qualcomm', 'Nividia']\n"
     ]
    }
   ],
   "source": [
    "print(AI_COMPANIES)"
   ]
  },
  {
   "cell_type": "code",
   "execution_count": 18,
   "metadata": {},
   "outputs": [],
   "source": [
    "AI_COMPANIES.sort()"
   ]
  },
  {
   "cell_type": "code",
   "execution_count": 19,
   "metadata": {},
   "outputs": [
    {
     "name": "stdout",
     "output_type": "stream",
     "text": [
      "['AMAZON', 'GOOGLE', 'Nividia', 'OLA', 'Qualcomm', 'UBER', 'mICROSOFT']\n"
     ]
    }
   ],
   "source": [
    "print(AI_COMPANIES)"
   ]
  },
  {
   "cell_type": "code",
   "execution_count": 20,
   "metadata": {},
   "outputs": [
    {
     "name": "stdout",
     "output_type": "stream",
     "text": [
      "('sugar', 'rice', 'milk', 'atta', 'egg')\n"
     ]
    }
   ],
   "source": [
    "purchase_tuple = ('sugar','rice','milk','atta','egg')\n",
    "print(purchase_tuple)"
   ]
  },
  {
   "cell_type": "code",
   "execution_count": 21,
   "metadata": {},
   "outputs": [
    {
     "name": "stdout",
     "output_type": "stream",
     "text": [
      "('MICROSOFT', 'GOOGLE', 'AMAZON', 'UBER', 'OLA')\n"
     ]
    }
   ],
   "source": [
    "AI_COMPANIES_in_tuple = ('MICROSOFT','GOOGLE','AMAZON','UBER','OLA')\n",
    "print(AI_COMPANIES_in_tuple)"
   ]
  },
  {
   "cell_type": "code",
   "execution_count": 22,
   "metadata": {},
   "outputs": [],
   "source": [
    "Final_tuple = AI_COMPANIES_in_tuple + purchase_tuple"
   ]
  },
  {
   "cell_type": "code",
   "execution_count": 24,
   "metadata": {},
   "outputs": [
    {
     "name": "stdout",
     "output_type": "stream",
     "text": [
      "('MICROSOFT', 'GOOGLE', 'AMAZON', 'UBER', 'OLA', 'sugar', 'rice', 'milk', 'atta', 'egg')\n"
     ]
    }
   ],
   "source": [
    "print(Final_tuple)"
   ]
  },
  {
   "cell_type": "code",
   "execution_count": null,
   "metadata": {},
   "outputs": [],
   "source": []
  }
 ],
 "metadata": {
  "kernelspec": {
   "display_name": "Python 3",
   "language": "python",
   "name": "python3"
  },
  "language_info": {
   "codemirror_mode": {
    "name": "ipython",
    "version": 3
   },
   "file_extension": ".py",
   "mimetype": "text/x-python",
   "name": "python",
   "nbconvert_exporter": "python",
   "pygments_lexer": "ipython3",
   "version": "3.7.4"
  }
 },
 "nbformat": 4,
 "nbformat_minor": 2
}
